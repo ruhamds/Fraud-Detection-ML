{
 "cells": [
  {
   "cell_type": "markdown",
   "id": "12d5d9a6",
   "metadata": {},
   "source": [
    "# Data Cleaning\n",
    "\n",
    "In this notebook, we perform essential cleaning steps on the datasets before analysis and modeling. Specifically, we will:\n",
    "\n",
    "- Handle missing values\n",
    "- Remove duplicates\n",
    "- Correct data types (especially datetime columns)\n",
    "- Save cleaned datasets for later use\n",
    "\n"
   ]
  },
  {
   "cell_type": "markdown",
   "id": "cab1dba4",
   "metadata": {},
   "source": [
    "##Import Libraries and Load Data\n",
    "\n"
   ]
  },
  {
   "cell_type": "code",
   "execution_count": 3,
   "id": "61b632b4",
   "metadata": {},
   "outputs": [],
   "source": [
    "import pandas as pd\n",
    "import numpy as np\n",
    "import matplotlib.pyplot as plt\n",
    "\n",
    "# Set display options\n",
    "pd.set_option('display.max_columns', 100)\n",
    "\n",
    "# Load data\n",
    "fraud_df = pd.read_csv(\"../data/Fraud_Data.csv\")\n",
    "ip_map_df = pd.read_csv(\"../data/IpAddress_to_Country.csv\")\n",
    "creditcard_df = pd.read_csv(\"../data/creditcard.csv\")\n"
   ]
  },
  {
   "cell_type": "markdown",
   "id": "1fb6a7ad",
   "metadata": {},
   "source": [
    "#1. Handle Missing Values\n",
    "We will:\n",
    "- Check for missing values\n",
    "- Decide whether to drop or impute, with justification"
   ]
  },
  {
   "cell_type": "code",
   "execution_count": 5,
   "id": "262e4c36",
   "metadata": {},
   "outputs": [
    {
     "name": "stdout",
     "output_type": "stream",
     "text": [
      " Missing values in Fraud_Data:\n",
      "user_id           0\n",
      "signup_time       0\n",
      "purchase_time     0\n",
      "purchase_value    0\n",
      "device_id         0\n",
      "source            0\n",
      "browser           0\n",
      "sex               0\n",
      "age               0\n",
      "ip_address        0\n",
      "class             0\n",
      "dtype: int64 \n",
      "\n",
      " Missing values in IP Mapping:\n",
      "lower_bound_ip_address    0\n",
      "upper_bound_ip_address    0\n",
      "country                   0\n",
      "dtype: int64 \n",
      "\n",
      " Missing values in Credit Card Data:\n",
      "Time      0\n",
      "V1        0\n",
      "V2        0\n",
      "V3        0\n",
      "V4        0\n",
      "V5        0\n",
      "V6        0\n",
      "V7        0\n",
      "V8        0\n",
      "V9        0\n",
      "V10       0\n",
      "V11       0\n",
      "V12       0\n",
      "V13       0\n",
      "V14       0\n",
      "V15       0\n",
      "V16       0\n",
      "V17       0\n",
      "V18       0\n",
      "V19       0\n",
      "V20       0\n",
      "V21       0\n",
      "V22       0\n",
      "V23       0\n",
      "V24       0\n",
      "V25       0\n",
      "V26       0\n",
      "V27       0\n",
      "V28       0\n",
      "Amount    0\n",
      "Class     0\n",
      "dtype: int64\n"
     ]
    }
   ],
   "source": [
    "# Check for nulls in each dataset\n",
    "print(\" Missing values in Fraud_Data:\")\n",
    "print(fraud_df.isnull().sum(), \"\\n\")\n",
    "\n",
    "print(\" Missing values in IP Mapping:\")\n",
    "print(ip_map_df.isnull().sum(), \"\\n\")\n",
    "\n",
    "print(\" Missing values in Credit Card Data:\")\n",
    "print(creditcard_df.isnull().sum())\n"
   ]
  },
  {
   "cell_type": "markdown",
   "id": "2d2ae5b9",
   "metadata": {},
   "source": [
    "#Remove Duplicates\n",
    "\n",
    "Duplicate records can skew analysis. Let’s identify and remove them.\n"
   ]
  },
  {
   "cell_type": "code",
   "execution_count": 6,
   "id": "2337eeee",
   "metadata": {},
   "outputs": [
    {
     "name": "stdout",
     "output_type": "stream",
     "text": [
      " Duplicates in Fraud_Data: 0\n",
      "Duplicates in IP Map: 0\n",
      "Duplicates in Credit Card Data: 1081\n",
      "✅ Duplicate records removed.\n"
     ]
    }
   ],
   "source": [
    "# Check and remove duplicates\n",
    "print(\" Duplicates in Fraud_Data:\", fraud_df.duplicated().sum())\n",
    "fraud_df.drop_duplicates(inplace=True)\n",
    "\n",
    "print(\"Duplicates in IP Map:\", ip_map_df.duplicated().sum())\n",
    "ip_map_df.drop_duplicates(inplace=True)\n",
    "\n",
    "print(\"Duplicates in Credit Card Data:\", creditcard_df.duplicated().sum())\n",
    "creditcard_df.drop_duplicates(inplace=True)\n",
    "\n",
    "print(\"✅ Duplicate records removed.\")\n"
   ]
  },
  {
   "cell_type": "code",
   "execution_count": 7,
   "id": "72e79284",
   "metadata": {},
   "outputs": [
    {
     "name": "stdout",
     "output_type": "stream",
     "text": [
      "Duplicates in Credit Card Data after removal: 0\n"
     ]
    }
   ],
   "source": [
    "print(\"Duplicates in Credit Card Data after removal:\", creditcard_df.duplicated().sum())"
   ]
  },
  {
   "cell_type": "markdown",
   "id": "e158abf2",
   "metadata": {},
   "source": [
    "#Correct Data Types\n",
    "\n",
    "We will:\n",
    "- Convert `signup_time` and `purchase_time` in `fraud_df` to datetime objects\n",
    "- Ensure all features have appropriate types\n"
   ]
  },
  {
   "cell_type": "code",
   "execution_count": 9,
   "id": "da5aee68",
   "metadata": {},
   "outputs": [
    {
     "name": "stdout",
     "output_type": "stream",
     "text": [
      "<class 'pandas.core.frame.DataFrame'>\n",
      "Int64Index: 151112 entries, 0 to 151111\n",
      "Data columns (total 11 columns):\n",
      " #   Column          Non-Null Count   Dtype         \n",
      "---  ------          --------------   -----         \n",
      " 0   user_id         151112 non-null  int64         \n",
      " 1   signup_time     151112 non-null  datetime64[ns]\n",
      " 2   purchase_time   151112 non-null  datetime64[ns]\n",
      " 3   purchase_value  151112 non-null  int64         \n",
      " 4   device_id       151112 non-null  object        \n",
      " 5   source          151112 non-null  object        \n",
      " 6   browser         151112 non-null  object        \n",
      " 7   sex             151112 non-null  object        \n",
      " 8   age             151112 non-null  int64         \n",
      " 9   ip_address      151112 non-null  float64       \n",
      " 10  class           151112 non-null  int64         \n",
      "dtypes: datetime64[ns](2), float64(1), int64(4), object(4)\n",
      "memory usage: 13.8+ MB\n"
     ]
    }
   ],
   "source": [
    "fraud_df.info()"
   ]
  },
  {
   "cell_type": "code",
   "execution_count": 8,
   "id": "daa17474",
   "metadata": {},
   "outputs": [
    {
     "name": "stdout",
     "output_type": "stream",
     "text": [
      "user_id                    int64\n",
      "signup_time       datetime64[ns]\n",
      "purchase_time     datetime64[ns]\n",
      "purchase_value             int64\n",
      "device_id                 object\n",
      "source                    object\n",
      "browser                   object\n",
      "sex                       object\n",
      "age                        int64\n",
      "ip_address               float64\n",
      "class                      int64\n",
      "dtype: object\n"
     ]
    }
   ],
   "source": [
    "# Convert timestamp columns to datetime\n",
    "fraud_df['signup_time'] = pd.to_datetime(fraud_df['signup_time'])\n",
    "fraud_df['purchase_time'] = pd.to_datetime(fraud_df['purchase_time'])\n",
    "\n",
    "# Confirm types\n",
    "print(fraud_df.dtypes)\n"
   ]
  },
  {
   "cell_type": "code",
   "execution_count": 14,
   "id": "d5e455a5",
   "metadata": {},
   "outputs": [
    {
     "name": "stdout",
     "output_type": "stream",
     "text": [
      "✅ Final cleaned datasets saved to '../data/clean/'\n"
     ]
    }
   ],
   "source": [
    "import os\n",
    "os.makedirs(\"../data/clean\", exist_ok=True)\n",
    "\n",
    "fraud_df.to_csv(\"../data/clean/final_fraud_data.csv\", index=False)\n",
    "ip_map_df.to_csv(\"../data/clean/final_ip_map.csv\", index=False)\n",
    "creditcard_df.to_csv(\"../data/clean/final_creditcard.csv\", index=False)\n",
    "\n",
    "print(\"✅ Final cleaned datasets saved to '../data/clean/'\")"
   ]
  }
 ],
 "metadata": {
  "kernelspec": {
   "display_name": "myenv",
   "language": "python",
   "name": "python3"
  },
  "language_info": {
   "codemirror_mode": {
    "name": "ipython",
    "version": 3
   },
   "file_extension": ".py",
   "mimetype": "text/x-python",
   "name": "python",
   "nbconvert_exporter": "python",
   "pygments_lexer": "ipython3",
   "version": "3.10.0"
  }
 },
 "nbformat": 4,
 "nbformat_minor": 5
}
