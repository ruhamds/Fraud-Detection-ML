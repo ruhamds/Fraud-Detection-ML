{
 "cells": [
  {
   "cell_type": "markdown",
   "id": "ec099e2a",
   "metadata": {},
   "source": [
    "# Data_Transformation\n",
    "This notebook handles:\n",
    "\n",
    "Class Imbalance Analysis: Detailed visualization and statistics\n",
    "\n",
    "Categorical Encoding: Label encoding + One-hot encoding\n",
    "\n",
    "Feature Scaling: StandardScaler normalization\n",
    "\n",
    "SMOTE Implementation: Balanced datasets with 30% fraud cases\n",
    "\n",
    "Train-Test Split: Stratified splitting with proper data preparation"
   ]
  },
  {
   "cell_type": "code",
   "execution_count": 1,
   "id": "7e1b3f41",
   "metadata": {},
   "outputs": [],
   "source": [
    "\n",
    "import pandas as pd\n",
    "import numpy as np\n",
    "import matplotlib.pyplot as plt\n",
    "import seaborn as sns\n",
    "from sklearn.preprocessing import StandardScaler, LabelEncoder, OneHotEncoder\n",
    "from sklearn.model_selection import train_test_split\n",
    "from imblearn.over_sampling import SMOTE\n",
    "from imblearn.under_sampling import RandomUnderSampler\n",
    "from collections import Counter\n",
    "import warnings\n",
    "warnings.filterwarnings('ignore')"
   ]
  },
  {
   "cell_type": "code",
   "execution_count": 25,
   "id": "2d3b2363",
   "metadata": {},
   "outputs": [
    {
     "name": "stdout",
     "output_type": "stream",
     "text": [
      "Fraud data shape: (129146, 45)\n",
      "Credit card data shape: (283726, 31)\n"
     ]
    }
   ],
   "source": [
    "\n",
    "# Load feature-engineered data\n",
    "fraud_data = pd.read_csv('fraud_data_with_features.csv')\n",
    "creditcard_data = pd.read_csv('creditcard_data_with_features.csv')\n",
    "\n",
    "print(f\"Fraud data shape: {fraud_data.shape}\")\n",
    "print(f\"Credit card data shape: {creditcard_data.shape}\")"
   ]
  },
  {
   "cell_type": "markdown",
   "id": "02dc7435",
   "metadata": {},
   "source": [
    "CLASS IMBALANCE ANALYSIS"
   ]
  },
  {
   "cell_type": "code",
   "execution_count": 3,
   "id": "aff558da",
   "metadata": {},
   "outputs": [
    {
     "name": "stdout",
     "output_type": "stream",
     "text": [
      "Class distribution in Fraud Data:\n",
      "0    116878\n",
      "1     12268\n",
      "Name: class, dtype: int64\n",
      "Fraud rate: 9.50%\n",
      "\n",
      "Class distribution in Credit Card Data:\n",
      "0    283253\n",
      "1       473\n",
      "Name: Class, dtype: int64\n",
      "Fraud rate: 0.17%\n"
     ]
    }
   ],
   "source": [
    "# Analyze class distribution in both datasets\n",
    "print(\"Class distribution in Fraud Data:\")\n",
    "fraud_class_dist = fraud_data['class'].value_counts()\n",
    "print(fraud_class_dist)\n",
    "print(f\"Fraud rate: {fraud_class_dist[1] / len(fraud_data) * 100:.2f}%\")\n",
    "\n",
    "print(\"\\nClass distribution in Credit Card Data:\")\n",
    "cc_class_dist = creditcard_data['Class'].value_counts()\n",
    "print(cc_class_dist)\n",
    "print(f\"Fraud rate: {cc_class_dist[1] / len(creditcard_data) * 100:.2f}%\")\n"
   ]
  },
  {
   "cell_type": "markdown",
   "id": "3772e1f9",
   "metadata": {},
   "source": [
    "PREPARE FEATURES FOR MODELING"
   ]
  },
  {
   "cell_type": "code",
   "execution_count": 8,
   "id": "5851aa24",
   "metadata": {},
   "outputs": [
    {
     "name": "stdout",
     "output_type": "stream",
     "text": [
      "Numerical features: ['purchase_value', 'age', 'hour_of_day', 'day_of_week', 'time_since_signup', 'device_transaction_count_normalized', 'is_night_purchase', 'is_peak_hour', 'is_business_day', 'is_device_1']\n",
      "Categorical features: ['source', 'browser', 'sex', 'country_binned', 'age_group', 'purchase_value_category', 'device_activity_group']\n"
     ]
    }
   ],
   "source": [
    "#  Updated numerical features (drop removed and include new ones)\n",
    "numerical_features = [\n",
    "    'purchase_value', 'age', 'hour_of_day', 'day_of_week', 'time_since_signup',\n",
    "    'device_transaction_count_normalized', 'is_night_purchase',\n",
    "    'is_peak_hour', 'is_business_day', 'is_device_1'\n",
    "]\n",
    "\n",
    "#  Updated categorical features (based on new binned categories)\n",
    "categorical_features = [\n",
    "    'source', 'browser', 'sex', 'country_binned', \n",
    "    'age_group', 'purchase_value_category', 'device_activity_group'\n",
    "]\n",
    "\n",
    "print(f\"Numerical features: {numerical_features}\")\n",
    "print(f\"Categorical features: {categorical_features}\")\n"
   ]
  },
  {
   "cell_type": "markdown",
   "id": "628e8ef8",
   "metadata": {},
   "source": [
    "ENCODE CATEGORICAL VARIABLES"
   ]
  },
  {
   "cell_type": "code",
   "execution_count": 11,
   "id": "74716b99",
   "metadata": {},
   "outputs": [
    {
     "name": "stdout",
     "output_type": "stream",
     "text": [
      " Encoding categorical variables...\n",
      " One-hot encoding multi-class variables...\n",
      "  - source: created 2 dummy variables\n",
      "  - browser: created 4 dummy variables\n",
      "  - country_binned: created 14 dummy variables\n",
      "  - age_group: created 2 dummy variables\n",
      "  - purchase_value_category: created 1 dummy variables\n",
      "✅ Total features after encoding: 36\n"
     ]
    }
   ],
   "source": [
    "from sklearn.preprocessing import LabelEncoder\n",
    "\n",
    "# Create a copy of the dataset for transformation\n",
    "fraud_encoded = fraud_data.copy()\n",
    "\n",
    "print(\" Encoding categorical variables...\")\n",
    "\n",
    "# Label encode binary variables (e.g., sex)\n",
    "label_encoder = LabelEncoder()\n",
    "fraud_encoded['sex_encoded'] = label_encoder.fit_transform(fraud_encoded['sex'])\n",
    "\n",
    "# One-hot encode multi-class categorical variables\n",
    "print(\" One-hot encoding multi-class variables...\")\n",
    "categorical_to_encode = [\n",
    "    'source', 'browser', 'country_binned', 'age_group', \n",
    "    'purchase_value_category', 'device_activity_group'\n",
    "]\n",
    "\n",
    "for col in categorical_to_encode:\n",
    "    if col in fraud_encoded.columns:\n",
    "        dummies = pd.get_dummies(fraud_encoded[col], prefix=col, drop_first=True)\n",
    "        fraud_encoded = pd.concat([fraud_encoded, dummies], axis=1)\n",
    "        print(f\"  - {col}: created {len(dummies.columns)} dummy variables\")\n",
    "\n",
    "# Updated numerical features\n",
    "numerical_features = [\n",
    "    'purchase_value', 'age', 'hour_of_day', 'day_of_week', 'time_since_signup',\n",
    "    'device_transaction_count_normalized', 'is_night_purchase',\n",
    "    'is_peak_hour', 'is_business_day', 'is_device_1'\n",
    "]\n",
    "\n",
    "# Combine numerical + encoded categorical features\n",
    "encoded_features = numerical_features + ['sex_encoded']\n",
    "for col in categorical_to_encode:\n",
    "    dummy_cols = [c for c in fraud_encoded.columns if c.startswith(f'{col}_')]\n",
    "    encoded_features.extend(dummy_cols)\n",
    "\n",
    "print(f\"✅ Total features after encoding: {len(encoded_features)}\")\n"
   ]
  },
  {
   "cell_type": "markdown",
   "id": "e6c69e7e",
   "metadata": {},
   "source": [
    "PREPARE DATASETS FOR MODELING"
   ]
  },
  {
   "cell_type": "code",
   "execution_count": 13,
   "id": "be5c6c14",
   "metadata": {},
   "outputs": [
    {
     "name": "stdout",
     "output_type": "stream",
     "text": [
      "Preparing fraud dataset...\n",
      "Fraud dataset - Features: (129146, 36), Target: (129146,)\n",
      "Preparing credit card dataset...\n",
      "Credit card dataset - Features: (283726, 30), Target: (283726,)\n"
     ]
    }
   ],
   "source": [
    "# Prepare fraud dataset\n",
    "print(\"Preparing fraud dataset...\")\n",
    "X_fraud = fraud_encoded[encoded_features]\n",
    "y_fraud = fraud_encoded['class']\n",
    "\n",
    "# Handle any missing values in features\n",
    "X_fraud = X_fraud.fillna(X_fraud.median())\n",
    "\n",
    "print(f\"Fraud dataset - Features: {X_fraud.shape}, Target: {y_fraud.shape}\")\n",
    "\n",
    "# Prepare credit card dataset\n",
    "print(\"Preparing credit card dataset...\")\n",
    "X_creditcard = creditcard_data.drop(['Class'], axis=1)\n",
    "y_creditcard = creditcard_data['Class']\n",
    "\n",
    "print(f\"Credit card dataset - Features: {X_creditcard.shape}, Target: {y_creditcard.shape}\")\n"
   ]
  },
  {
   "cell_type": "markdown",
   "id": "6dea5304",
   "metadata": {},
   "source": [
    "TRAIN-TEST SPLIT"
   ]
  },
  {
   "cell_type": "code",
   "execution_count": 14,
   "id": "4c3aa0f2",
   "metadata": {},
   "outputs": [
    {
     "name": "stdout",
     "output_type": "stream",
     "text": [
      "Splitting fraud dataset...\n",
      "Fraud train set: (103316, 36), test set: (25830, 36)\n",
      "Splitting credit card dataset...\n",
      "Credit card train set: (226980, 30), test set: (56746, 30)\n"
     ]
    }
   ],
   "source": [
    "# Split fraud data\n",
    "print(\"Splitting fraud dataset...\")\n",
    "X_fraud_train, X_fraud_test, y_fraud_train, y_fraud_test = train_test_split(\n",
    "    X_fraud, y_fraud, test_size=0.2, random_state=42, stratify=y_fraud\n",
    ")\n",
    "\n",
    "print(f\"Fraud train set: {X_fraud_train.shape}, test set: {X_fraud_test.shape}\")\n",
    "\n",
    "# Split credit card data\n",
    "print(\"Splitting credit card dataset...\")\n",
    "X_cc_train, X_cc_test, y_cc_train, y_cc_test = train_test_split(\n",
    "    X_creditcard, y_creditcard, test_size=0.2, random_state=42, stratify=y_creditcard\n",
    ")\n",
    "\n",
    "print(f\"Credit card train set: {X_cc_train.shape}, test set: {X_cc_test.shape}\")\n"
   ]
  },
  {
   "cell_type": "markdown",
   "id": "3ebaed82",
   "metadata": {},
   "source": [
    "FEATURE SCALING"
   ]
  },
  {
   "cell_type": "code",
   "execution_count": 15,
   "id": "eeda6b76",
   "metadata": {},
   "outputs": [
    {
     "name": "stdout",
     "output_type": "stream",
     "text": [
      "Scaling fraud data features...\n",
      "Fraud data scaling completed.\n",
      "Scaling credit card features...\n",
      "Credit card data scaling completed.\n"
     ]
    }
   ],
   "source": [
    "# Scale fraud data features\n",
    "print(\"Scaling fraud data features...\")\n",
    "scaler_fraud = StandardScaler()\n",
    "X_fraud_train_scaled = scaler_fraud.fit_transform(X_fraud_train)\n",
    "X_fraud_test_scaled = scaler_fraud.transform(X_fraud_test)\n",
    "\n",
    "print(\"Fraud data scaling completed.\")\n",
    "\n",
    "# Scale credit card data features\n",
    "print(\"Scaling credit card features...\")\n",
    "scaler_cc = StandardScaler()\n",
    "X_cc_train_scaled = scaler_cc.fit_transform(X_cc_train)\n",
    "X_cc_test_scaled = scaler_cc.transform(X_cc_test)\n",
    "\n",
    "print(\"Credit card data scaling completed.\")"
   ]
  },
  {
   "cell_type": "markdown",
   "id": "021ec82d",
   "metadata": {},
   "source": [
    "HANDLE CLASS IMBALANCE WITH SMOTE"
   ]
  },
  {
   "cell_type": "code",
   "execution_count": 16,
   "id": "e730266d",
   "metadata": {},
   "outputs": [
    {
     "name": "stdout",
     "output_type": "stream",
     "text": [
      "Original class distribution:\n",
      "Fraud train: Counter({0: 93502, 1: 9814})\n",
      "Credit card train: Counter({0: 226602, 1: 378})\n",
      "\n",
      "Applying SMOTE to fraud training data...\n",
      "Fraud data after SMOTE: Counter({0: 93502, 1: 28050})\n",
      "Applying SMOTE to credit card training data...\n",
      "Credit card data after SMOTE: Counter({0: 226602, 1: 67980})\n"
     ]
    }
   ],
   "source": [
    "print(\"Original class distribution:\")\n",
    "print(f\"Fraud train: {Counter(y_fraud_train)}\")\n",
    "print(f\"Credit card train: {Counter(y_cc_train)}\")\n",
    "\n",
    "# Apply SMOTE to fraud training data\n",
    "print(\"\\nApplying SMOTE to fraud training data...\")\n",
    "smote_fraud = SMOTE(random_state=42, sampling_strategy=0.3)  # 30% fraud cases\n",
    "X_fraud_train_balanced, y_fraud_train_balanced = smote_fraud.fit_resample(\n",
    "    X_fraud_train_scaled, y_fraud_train\n",
    ")\n",
    "\n",
    "print(f\"Fraud data after SMOTE: {Counter(y_fraud_train_balanced)}\")\n",
    "\n",
    "# Apply SMOTE to credit card training data\n",
    "print(\"Applying SMOTE to credit card training data...\")\n",
    "smote_cc = SMOTE(random_state=42, sampling_strategy=0.3)  # 30% fraud cases\n",
    "X_cc_train_balanced, y_cc_train_balanced = smote_cc.fit_resample(\n",
    "    X_cc_train_scaled, y_cc_train\n",
    ")\n",
    "\n",
    "print(f\"Credit card data after SMOTE: {Counter(y_cc_train_balanced)}\")\n"
   ]
  },
  {
   "cell_type": "code",
   "execution_count": 17,
   "id": "47ea8f40",
   "metadata": {},
   "outputs": [
    {
     "data": {
      "image/png": "[encoded data removed]",
      "text/plain": [
       "<Figure size 600x400 with 1 Axes>"
      ]
     },
     "metadata": {},
     "output_type": "display_data"
    }
   ],
   "source": [
    "import matplotlib.pyplot as plt\n",
    "import seaborn as sns\n",
    "\n",
    "# Set style\n",
    "sns.set(style=\"whitegrid\")\n",
    "\n",
    "# === 1. Class distribution after SMOTE (Fraud dataset) ===\n",
    "plt.figure(figsize=(6,4))\n",
    "sns.countplot(x=y_fraud_train_balanced)\n",
    "plt.title(\"Fraud Dataset: Class Distribution After SMOTE\")\n",
    "plt.xlabel(\"Class (0 = Not Fraud, 1 = Fraud)\")\n",
    "plt.ylabel(\"Count\")\n",
    "plt.show()"
   ]
  },
  {
   "cell_type": "code",
   "execution_count": 21,
   "id": "9b4306da",
   "metadata": {},
   "outputs": [
    {
     "data": {
      "image/png": "[encoded data removed]",
      "text/plain": [
       "<Figure size 1200x600 with 1 Axes>"
      ]
     },
     "metadata": {},
     "output_type": "display_data"
    }
   ],
   "source": [
    "import matplotlib.pyplot as plt\n",
    "import seaborn as sns\n",
    "import pandas as pd\n",
    "\n",
    "# Inverse transform the scaled hour_of_day\n",
    "X_fraud_train_balanced_df = pd.DataFrame(X_fraud_train_balanced, columns=X_fraud_train.columns)\n",
    "\n",
    "# Inverse transform using the original scaler\n",
    "X_fraud_train_balanced_df['hour_of_day'] = scaler_fraud.inverse_transform(X_fraud_train_balanced_df)[:, X_fraud_train.columns.get_loc('hour_of_day')]\n",
    "\n",
    "# Add the labels back for plotting\n",
    "X_fraud_train_balanced_df['class'] = y_fraud_train_balanced.values\n",
    "\n",
    "# Plot using the original hour range (0–23)\n",
    "plt.figure(figsize=(12, 6))\n",
    "sns.histplot(\n",
    "    data=X_fraud_train_balanced_df,\n",
    "    x='hour_of_day',\n",
    "    hue='class',\n",
    "    kde=True,\n",
    "    bins=24,\n",
    "    multiple='layer',\n",
    "    palette='bright'\n",
    ")\n",
    "\n",
    "plt.title(\"Transaction Hour Distribution by Class (After SMOTE, Original Hour Scale)\")\n",
    "plt.xlabel(\"Hour of Day\")\n",
    "plt.ylabel(\"Count\")\n",
    "plt.xticks(range(0, 24))\n",
    "plt.grid(True)\n",
    "plt.show()\n"
   ]
  },
  {
   "cell_type": "markdown",
   "id": "f1ed0e6e",
   "metadata": {},
   "source": [
    " SAVE PROCESSED DATA"
   ]
  },
  {
   "cell_type": "code",
   "execution_count": 26,
   "id": "0e02cdf8",
   "metadata": {},
   "outputs": [
    {
     "name": "stdout",
     "output_type": "stream",
     "text": [
      "Saving processed fraud data...\n",
      "Saving processed credit card data...\n",
      "Data transformation completed!\n",
      "\n",
      "Files saved:\n",
      "  - X_fraud_train_balanced.npy\n",
      "  - y_fraud_train_balanced.npy\n",
      "  - X_fraud_test_scaled.npy\n",
      "  - y_fraud_test.npy\n",
      "  - X_cc_train_balanced.npy\n",
      "  - y_cc_train_balanced.npy\n",
      "  - X_cc_test_scaled.npy\n",
      "  - y_cc_test.npy\n",
      "  - scaler_fraud.pkl\n",
      "  - scaler_creditcard.pkl\n",
      "  - fraud_feature_names.txt\n"
     ]
    }
   ],
   "source": [
    "# Convert scaled arrays back to DataFrames for easy handling\n",
    "X_fraud_train_df = pd.DataFrame(X_fraud_train_balanced, columns=encoded_features)\n",
    "X_fraud_test_df = pd.DataFrame(X_fraud_test_scaled, columns=encoded_features)\n",
    "\n",
    "# Save fraud data\n",
    "print(\"Saving processed fraud data...\")\n",
    "np.save('X_fraud_train_balanced.npy', X_fraud_train_balanced)\n",
    "np.save('y_fraud_train_balanced.npy', y_fraud_train_balanced)\n",
    "np.save('X_fraud_test_scaled.npy', X_fraud_test_scaled)\n",
    "np.save('y_fraud_test.npy', y_fraud_test)\n",
    "\n",
    "# Save credit card data\n",
    "print(\"Saving processed credit card data...\")\n",
    "np.save('X_cc_train_balanced.npy', X_cc_train_balanced)\n",
    "np.save('y_cc_train_balanced.npy', y_cc_train_balanced)\n",
    "np.save('X_cc_test_scaled.npy', X_cc_test_scaled)\n",
    "np.save('y_cc_test.npy', y_cc_test)\n",
    "\n",
    "# Save feature names and scalers for later use\n",
    "import joblib\n",
    "joblib.dump(scaler_fraud, 'scaler_fraud.pkl')\n",
    "joblib.dump(scaler_cc, 'scaler_creditcard.pkl')\n",
    "\n",
    "# Save feature names\n",
    "with open('fraud_feature_names.txt', 'w') as f:\n",
    "    for feature in encoded_features:\n",
    "        f.write(f\"{feature}\\n\")\n",
    "\n",
    "print(\"Data transformation completed!\")\n",
    "print(\"\\nFiles saved:\")\n",
    "print(\"  - X_fraud_train_balanced.npy\")\n",
    "print(\"  - y_fraud_train_balanced.npy\") \n",
    "print(\"  - X_fraud_test_scaled.npy\")\n",
    "print(\"  - y_fraud_test.npy\")\n",
    "print(\"  - X_cc_train_balanced.npy\")\n",
    "print(\"  - y_cc_train_balanced.npy\")\n",
    "print(\"  - X_cc_test_scaled.npy\") \n",
    "print(\"  - y_cc_test.npy\")\n",
    "print(\"  - scaler_fraud.pkl\")\n",
    "print(\"  - scaler_creditcard.pkl\")\n",
    "print(\"  - fraud_feature_names.txt\")"
   ]
  },
  {
   "cell_type": "markdown",
   "id": "75ee5df0",
   "metadata": {},
   "source": [
    "SUMMARY STATISTICS"
   ]
  },
  {
   "cell_type": "code",
   "execution_count": 27,
   "id": "a5a49a90",
   "metadata": {},
   "outputs": [
    {
     "name": "stdout",
     "output_type": "stream",
     "text": [
      "Final dataset shapes:\n",
      "Fraud - Train: (121552, 36), Test: (25830, 36)\n",
      "Credit Card - Train: (294582, 30), Test: (56746, 30)\n",
      "\n",
      "Class distribution after balancing:\n",
      "Fraud train: Normal=93502, Fraud=28050\n",
      "Credit Card train: Normal=226602, Fraud=67980\n",
      "\n",
      "✅ Data transformation pipeline completed successfully!\n",
      "Ready for model building and training.\n"
     ]
    }
   ],
   "source": [
    "# Display final dataset shapes and class distributions\n",
    "print(\"Final dataset shapes:\")\n",
    "print(f\"Fraud - Train: {X_fraud_train_balanced.shape}, Test: {X_fraud_test_scaled.shape}\")\n",
    "print(f\"Credit Card - Train: {X_cc_train_balanced.shape}, Test: {X_cc_test_scaled.shape}\")\n",
    "\n",
    "print(\"\\nClass distribution after balancing:\")\n",
    "print(f\"Fraud train: Normal={Counter(y_fraud_train_balanced)[0]}, Fraud={Counter(y_fraud_train_balanced)[1]}\")\n",
    "print(f\"Credit Card train: Normal={Counter(y_cc_train_balanced)[0]}, Fraud={Counter(y_cc_train_balanced)[1]}\")\n",
    "\n",
    "print(\"\\n✅ Data transformation pipeline completed successfully!\")\n",
    "print(\"Ready for model building and training.\")\n"
   ]
  },
  {
   "cell_type": "markdown",
   "id": "bb9f88d4",
   "metadata": {},
   "source": [
    "###  SMOTE Balancing & Feature Engineering Summary\n",
    "\n",
    "####  Purpose\n",
    "To address extreme class imbalance and improve fraud detection, especially **reducing false negatives** that pose major financial risks.\n",
    "\n",
    "####  Approach\n",
    "- Balanced training sets using **SMOTE (30%)** for both datasets.\n",
    "- Encoded key categorical variables: `country_binned`, `browser`, `age_group`, etc.\n",
    "- Enhanced features with domain-informed engineering:\n",
    "  - `hour_of_day` & `purchase_value_category` → binned\n",
    "  - `is_night_purchase`, `is_peak_hour`, `is_business_day`, `day_part` → time-based signals\n",
    "  - `device_transaction_count_normalized`, `is_device_1` → flag suspicious device usage\n",
    "- Dropped low-impact or redundant features like `user_transaction_count`.\n",
    "\n",
    "####  Key Findings\n",
    "- **Fraud Rate (Train)**:  \n",
    "  - Fraud dataset: **9.5%**  \n",
    "  - Credit card dataset: **0.17%**\n",
    "- **Post-SMOTE Class Balance**:  \n",
    "  - Fraud: **0: 93,502 | 1: 28,050**  \n",
    "  - Credit card: **0: 226,602 | 1: 67,980**\n",
    "\n",
    "####  Business Impact\n",
    "- **Device 1** alone handled **~87% of all transactions**, indicating high fraud risk.\n",
    "- Time-based signals like **night purchases** and **peak hours** now help identify hidden patterns.\n",
    "- These engineered features are expected to reduce **False Negatives** (e.g., 46 missed fraud cases = ~$133K potential loss).\n",
    "\n",
    " Data transformation complete — model training and SHAP validation ready.\n"
   ]
  }
 ],
 "metadata": {
  "kernelspec": {
   "display_name": "myenv",
   "language": "python",
   "name": "python3"
  },
  "language_info": {
   "codemirror_mode": {
    "name": "ipython",
    "version": 3
   },
   "file_extension": ".py",
   "mimetype": "text/x-python",
   "name": "python",
   "nbconvert_exporter": "python",
   "pygments_lexer": "ipython3",
   "version": "3.10.0"
  }
 },
 "nbformat": 4,
 "nbformat_minor": 5
}
