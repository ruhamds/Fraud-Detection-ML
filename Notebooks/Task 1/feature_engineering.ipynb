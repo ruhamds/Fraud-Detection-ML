{
 "cells": [
  {
   "cell_type": "markdown",
   "id": "9acb419a",
   "metadata": {},
   "source": [
    "# Feature Engineering\n",
    "\n",
    "This notebook covers:\n",
    "\n",
    "Geolocation Analysis: Converting IP addresses to integers and mapping to countries\n",
    "\n",
    "Time-Based Features: Creating hour_of_day, day_of_week, and time_since_signup\n",
    "\n",
    "Transaction Frequency: User and device transaction counts, purchase patterns\n",
    "\n",
    "Behavioral Features: Age groups, purchase categories, weekend/night indicators\n",
    "\n",
    "\n"
   ]
  },
  {
   "cell_type": "code",
   "execution_count": 11,
   "id": "34372e0a",
   "metadata": {},
   "outputs": [
    {
     "name": "stdout",
     "output_type": "stream",
     "text": [
      "Loading cleaned datasets...\n",
      "Fraud data shape: (151112, 11)\n",
      "Credit card data shape: (283726, 31)\n",
      "IP country data shape: (138846, 3)\n"
     ]
    }
   ],
   "source": [
    "import pandas as pd\n",
    "import numpy as np\n",
    "from datetime import datetime\n",
    "import warnings\n",
    "warnings.filterwarnings('ignore')\n",
    "\n",
    "# Load the cleaned data\n",
    "print(\"Loading cleaned datasets...\")\n",
    "fraud_df = pd.read_csv(r'C:\\Users\\Antifragile\\Desktop\\Fraud_detection\\data\\Fraud_Data.csv')\n",
    "creditcard_df = pd.read_csv(r'C:\\Users\\Antifragile\\Desktop\\Fraud_detection\\data\\clean\\final_creditcard.csv')\n",
    "ip_map_df= pd.read_csv(r'C:\\Users\\Antifragile\\Desktop\\Fraud_detection\\data\\clean\\final_ip_map.csv')\n",
    "\n",
    "print(f\"Fraud data shape: {fraud_df.shape}\")\n",
    "print(f\"Credit card data shape: {creditcard_df.shape}\")\n",
    "print(f\"IP country data shape: {ip_map_df.shape}\")"
   ]
  },
  {
   "cell_type": "markdown",
   "id": "0d7ba0ec",
   "metadata": {},
   "source": [
    "#GEOLOCATION ANALYSIS - Merging IP addresses with countries"
   ]
  },
  {
   "cell_type": "code",
   "execution_count": 12,
   "id": "99c09d49",
   "metadata": {},
   "outputs": [
    {
     "name": "stdout",
     "output_type": "stream",
     "text": [
      "0    7.327584e+08\n",
      "1    3.503114e+08\n",
      "2    2.621474e+09\n",
      "3    3.840542e+09\n",
      "4    4.155831e+08\n",
      "5    2.809315e+09\n",
      "6    3.987484e+09\n",
      "7    1.692459e+09\n",
      "8    3.719094e+09\n",
      "9    3.416747e+08\n",
      "Name: ip_address, dtype: float64\n",
      "float64\n"
     ]
    }
   ],
   "source": [
    "print(fraud_df['ip_address'].head(10))\n",
    "print(fraud_df['ip_address'].dtype)\n"
   ]
  },
  {
   "cell_type": "code",
   "execution_count": 14,
   "id": "d963abb9",
   "metadata": {},
   "outputs": [
    {
     "name": "stdout",
     "output_type": "stream",
     "text": [
      "Sample mapped results:\n",
      "       ip_int       ip_str    country\n",
      "634  16778864    1.0.6.112  Australia\n",
      "635  16842045   1.0.253.61   Thailand\n",
      "636  16843656    1.1.3.136      China\n",
      "637  16938732  1.2.118.236      China\n",
      "638  16971984  1.2.248.208   Thailand\n",
      "\n",
      "Top countries:\n",
      "United States        58049\n",
      "China                12038\n",
      "Japan                 7306\n",
      "United Kingdom        4490\n",
      "Korea Republic of     4162\n",
      "Germany               3646\n",
      "France                3161\n",
      "Canada                2975\n",
      "Brazil                2961\n",
      "Italy                 1944\n",
      "Name: country, dtype: int64\n",
      "\n",
      "Binned countries:\n",
      "United States     58049\n",
      "Other             21964\n",
      "China             12038\n",
      "Japan              7306\n",
      "United Kingdom     4490\n",
      "Name: country_binned, dtype: int64\n"
     ]
    }
   ],
   "source": [
    "from ipaddress import ip_address\n",
    "\n",
    "# Convert float IPs to integers safely\n",
    "fraud_df = fraud_df.dropna(subset=['ip_address'])\n",
    "fraud_df['ip_int'] = fraud_df['ip_address'].astype(np.uint32)\n",
    "fraud_df['ip_str'] = fraud_df['ip_int'].apply(lambda x: str(ip_address(x)))\n",
    "\n",
    "# Prepare the ip_country_df for range-based merging\n",
    "ip_map_df['lower_bound_ip_address'] = ip_map_df['lower_bound_ip_address'].astype(np.uint32)\n",
    "ip_map_df['upper_bound_ip_address'] = ip_map_df['upper_bound_ip_address'].astype(np.uint32)\n",
    "\n",
    "# Sort both DataFrames for merge_asof\n",
    "ip_map_df = ip_map_df.sort_values('lower_bound_ip_address')\n",
    "fraud_df = fraud_df.sort_values('ip_int')\n",
    "\n",
    "# Use pandas merge_asof to get the lower bound\n",
    "merged_df = pd.merge_asof(\n",
    "    fraud_df,\n",
    "    ip_map_df[['lower_bound_ip_address', 'upper_bound_ip_address', 'country']],\n",
    "    left_on='ip_int',\n",
    "    right_on='lower_bound_ip_address',\n",
    "    direction='backward'\n",
    ")\n",
    "\n",
    "# Filter only rows where ip_int <= upper_bound (valid match)\n",
    "merged_df = merged_df[merged_df['ip_int'] <= merged_df['upper_bound_ip_address']]\n",
    "\n",
    "# Bin countries with <1% frequency into 'Other'\n",
    "country_counts = merged_df['country'].value_counts()\n",
    "threshold = len(merged_df) * 0.01  # 1% threshold\n",
    "top_countries = country_counts[country_counts >= threshold].index\n",
    "merged_df['country_binned'] = merged_df['country'].where(merged_df['country'].isin(top_countries), 'Other')\n",
    "\n",
    "# Result\n",
    "print(\"Sample mapped results:\")\n",
    "print(merged_df[['ip_int', 'ip_str', 'country']].head())\n",
    "\n",
    "print(\"\\nTop countries:\")\n",
    "print(merged_df['country'].value_counts().head(10))\n",
    "\n",
    "print(\"\\nBinned countries:\")\n",
    "print(merged_df['country_binned'].value_counts().head())"
   ]
  },
  {
   "cell_type": "code",
   "execution_count": 15,
   "id": "755c9db1",
   "metadata": {},
   "outputs": [],
   "source": [
    "# After merging and filtering\n",
    "fraud_data = merged_df.copy()"
   ]
  },
  {
   "cell_type": "code",
   "execution_count": 16,
   "id": "9dd24b0f",
   "metadata": {},
   "outputs": [
    {
     "data": {
      "image/png": "[encoded data removed]",
      "text/plain": [
       "<Figure size 1000x500 with 1 Axes>"
      ]
     },
     "metadata": {},
     "output_type": "display_data"
    }
   ],
   "source": [
    "import matplotlib.pyplot as plt\n",
    "import seaborn as sns\n",
    "\n",
    "top_countries = merged_df['country'].value_counts().head(10)\n",
    "plt.figure(figsize=(10, 5))\n",
    "sns.barplot(x=top_countries.index, y=top_countries.values, palette=\"viridis\")\n",
    "plt.title(\"Top 10 Countries by IP Count in Fraud Data\")\n",
    "plt.ylabel(\"Number of Transactions\")\n",
    "plt.xlabel(\"Country\")\n",
    "plt.xticks(rotation=45)\n",
    "plt.tight_layout()\n",
    "plt.show()\n"
   ]
  },
  {
   "cell_type": "markdown",
   "id": "e583c145",
   "metadata": {},
   "source": [
    "Check Fraud Rate by Country"
   ]
  },
  {
   "cell_type": "code",
   "execution_count": 17,
   "id": "cd156ae8",
   "metadata": {},
   "outputs": [
    {
     "name": "stdout",
     "output_type": "stream",
     "text": [
      "                       count  sum  fraud_rate\n",
      "country                                      \n",
      "Turkmenistan               1    1  100.000000\n",
      "Namibia                   23   10   43.478261\n",
      "Sri Lanka                 31   13   41.935484\n",
      "Luxembourg                72   28   38.888889\n",
      "Virgin Islands (U.S.)      3    1   33.333333\n",
      "Ecuador                  106   28   26.415094\n",
      "Tunisia                  118   31   26.271186\n",
      "Peru                     119   31   26.050420\n",
      "Bolivia                   53   13   24.528302\n",
      "Kuwait                    90   21   23.333333\n"
     ]
    }
   ],
   "source": [
    "# class = 1 means fraud\n",
    "country_fraud = merged_df.groupby('country')['class'].agg(['count', 'sum', 'mean'])\n",
    "country_fraud['fraud_rate'] = country_fraud['mean'] * 100\n",
    "country_fraud = country_fraud.sort_values(by='fraud_rate', ascending=False).head(10)\n",
    "\n",
    "print(country_fraud[['count', 'sum', 'fraud_rate']])\n"
   ]
  },
  {
   "cell_type": "markdown",
   "id": "7fa27411",
   "metadata": {},
   "source": [
    "#TIME-BASED FEATURE ENGINEERING"
   ]
  },
  {
   "cell_type": "code",
   "execution_count": 18,
   "id": "156ae97f",
   "metadata": {},
   "outputs": [
    {
     "name": "stdout",
     "output_type": "stream",
     "text": [
      "Converting time columns to datetime...\n"
     ]
    }
   ],
   "source": [
    "# Convert time columns to datetime\n",
    "print(\"Converting time columns to datetime...\")\n",
    "fraud_data['signup_time'] = pd.to_datetime(fraud_data['signup_time'])\n",
    "fraud_data['purchase_time'] = pd.to_datetime(fraud_data['purchase_time'])"
   ]
  },
  {
   "cell_type": "code",
   "execution_count": 33,
   "id": "96c5b7cc",
   "metadata": {},
   "outputs": [
    {
     "name": "stdout",
     "output_type": "stream",
     "text": [
      "✅ Time-based features created successfully!\n",
      "Sample columns now include: ['signup_time', 'purchase_time', 'hour_of_day', 'day_of_week', 'time_since_signup', 'is_business_day', 'hour_of_day_binned_Morning', 'hour_of_day_binned_Afternoon', 'hour_of_day_binned_Evening', 'day_part_Morning', 'day_part_Afternoon', 'day_part_Evening', 'hour_of_day_binned_raw', 'day_part_raw', 'hour_of_day_binned_Morning', 'hour_of_day_binned_Afternoon', 'hour_of_day_binned_Evening', 'day_part_Morning', 'day_part_Afternoon', 'day_part_Evening']\n"
     ]
    }
   ],
   "source": [
    "# Convert to datetime format \n",
    "fraud_data['purchase_time'] = pd.to_datetime(fraud_data['purchase_time'])\n",
    "fraud_data['signup_time'] = pd.to_datetime(fraud_data['signup_time'])\n",
    "\n",
    "# Extract base time features \n",
    "fraud_data['hour_of_day'] = fraud_data['purchase_time'].dt.hour\n",
    "fraud_data['day_of_week'] = fraud_data['purchase_time'].dt.dayofweek  # 0=Mon, 6=Sun\n",
    "fraud_data['time_since_signup'] = (\n",
    "    fraud_data['purchase_time'] - fraud_data['signup_time']\n",
    ").dt.total_seconds() / 3600  # In hours\n",
    "\n",
    "# Create raw binned versions for interpretability (e.g., SHAP plots)\n",
    "fraud_data['hour_of_day_binned_raw'] = pd.cut(\n",
    "    fraud_data['hour_of_day'], bins=[0, 6, 12, 18, 24],\n",
    "    labels=['Night', 'Morning', 'Afternoon', 'Evening'], include_lowest=True\n",
    ")\n",
    "fraud_data['day_part_raw'] = pd.cut(\n",
    "    fraud_data['hour_of_day'], bins=[0, 6, 12, 18, 24],\n",
    "    labels=['Night', 'Morning', 'Afternoon', 'Evening'], include_lowest=True\n",
    ")\n",
    "\n",
    "# Derived binary and categorical features \n",
    "fraud_data['hour_of_day_binned'] = fraud_data['hour_of_day_binned_raw']\n",
    "fraud_data['day_part'] = fraud_data['day_part_raw']\n",
    "fraud_data['is_night_purchase'] = ((fraud_data['hour_of_day'] >= 20) | (fraud_data['hour_of_day'] < 6)).astype(int)\n",
    "fraud_data['is_peak_hour'] = ((fraud_data['hour_of_day'] >= 9) & (fraud_data['hour_of_day'] <= 17)).astype(int)\n",
    "fraud_data['is_business_day'] = fraud_data['day_of_week'].isin([0, 1, 2, 3, 4]).astype(int)\n",
    "\n",
    "# One-hot encode binned time features for modeling\n",
    "fraud_data = pd.get_dummies(fraud_data, columns=['hour_of_day_binned', 'day_part'], drop_first=True)\n",
    "\n",
    "# Sanity check\n",
    "print(\"✅ Time-based features created successfully!\")\n",
    "print(\"Sample columns now include:\", [col for col in fraud_data.columns if 'hour_of_day' in col or 'day' in col or 'time' in col])\n"
   ]
  },
  {
   "cell_type": "code",
   "execution_count": 34,
   "id": "bfb1240c",
   "metadata": {},
   "outputs": [
    {
     "data": {
      "image/png": "[encoded data removed]",
      "text/plain": [
       "<Figure size 600x400 with 1 Axes>"
      ]
     },
     "metadata": {},
     "output_type": "display_data"
    }
   ],
   "source": [
    "# Calculate fraud rate by time of day\n",
    "fraud_night_day = fraud_data.groupby('is_night_purchase')['class'].mean()\n",
    "fraud_night_day.index = ['Daytime', 'Nighttime']\n",
    "\n",
    "# Plot\n",
    "plt.figure(figsize=(6, 4))\n",
    "sns.barplot(x=fraud_night_day.index, y=fraud_night_day.values, palette=\"mako\")\n",
    "plt.title(\"Fraud Rate: Daytime vs. Nighttime\")\n",
    "plt.ylabel(\"Fraud Rate\")\n",
    "plt.xlabel(\"Time of Purchase\")\n",
    "plt.tight_layout()\n",
    "plt.show()\n"
   ]
  },
  {
   "cell_type": "markdown",
   "id": "6c9c07f7",
   "metadata": {},
   "source": [
    "TRANSACTION FREQUENCY AND VELOCITY FEATURES"
   ]
  },
  {
   "cell_type": "code",
   "execution_count": 35,
   "id": "2fda9a77",
   "metadata": {},
   "outputs": [
    {
     "name": "stdout",
     "output_type": "stream",
     "text": [
      "✅ Transaction frequency features created!\n",
      "User transaction count stats:\n",
      "count    129146.0\n",
      "mean          1.0\n",
      "std           0.0\n",
      "min           1.0\n",
      "25%           1.0\n",
      "50%           1.0\n",
      "75%           1.0\n",
      "max           1.0\n",
      "Name: user_transaction_count, dtype: float64\n",
      "Device transaction count stats:\n",
      "count    129146.000000\n",
      "mean          1.689669\n",
      "std           2.653866\n",
      "min           1.000000\n",
      "25%           1.000000\n",
      "50%           1.000000\n",
      "75%           1.000000\n",
      "max          20.000000\n",
      "Name: device_transaction_count, dtype: float64\n"
     ]
    }
   ],
   "source": [
    "# === Sort by user and purchase time for velocity & frequency calculations ===\n",
    "fraud_data = fraud_data.sort_values(['user_id', 'purchase_time'])\n",
    "\n",
    "# === Transaction count per user ===\n",
    "user_transaction_counts = fraud_data['user_id'].value_counts()\n",
    "fraud_data['user_transaction_count'] = fraud_data['user_id'].map(user_transaction_counts)\n",
    "\n",
    "# === Average purchase value per user ===\n",
    "user_avg_purchase = fraud_data.groupby('user_id')['purchase_value'].mean()\n",
    "fraud_data['user_avg_purchase_value'] = fraud_data['user_id'].map(user_avg_purchase)\n",
    "\n",
    "# === Purchase value deviation from user average ===\n",
    "fraud_data['purchase_value_deviation'] = (\n",
    "    fraud_data['purchase_value'] - fraud_data['user_avg_purchase_value']\n",
    ")\n",
    "\n",
    "# === Transaction count per device ===\n",
    "device_transaction_counts = fraud_data['device_id'].value_counts()\n",
    "fraud_data['device_transaction_count'] = fraud_data['device_id'].map(device_transaction_counts)\n",
    "\n",
    "# === Normalized transaction count per device (0–1 scale) ===\n",
    "fraud_data['device_transaction_count_normalized'] = (\n",
    "    fraud_data['device_transaction_count'] / device_transaction_counts.max()\n",
    ")\n",
    "\n",
    "# === Flag for most common device (e.g., Device 1 dominance) ===\n",
    "most_common_device = device_transaction_counts.idxmax()\n",
    "fraud_data['is_device_1'] = (fraud_data['device_id'] == most_common_device).astype(int)\n",
    "\n",
    "# === Device activity grouping (e.g., High vs. Low activity) ===\n",
    "fraud_data['device_activity_group'] = np.where(\n",
    "    fraud_data['device_transaction_count'] > 10, 'High', 'Low'\n",
    ")\n",
    "\n",
    "# === Optional: One-hot encode device_activity_group ===\n",
    "fraud_data = pd.get_dummies(fraud_data, columns=['device_activity_group'], drop_first=True)\n",
    "\n",
    "# === Summary ===\n",
    "print(\"✅ Transaction frequency features created!\")\n",
    "print(f\"User transaction count stats:\\n{fraud_data['user_transaction_count'].describe()}\")\n",
    "print(f\"Device transaction count stats:\\n{fraud_data['device_transaction_count'].describe()}\")\n"
   ]
  },
  {
   "cell_type": "code",
   "execution_count": 36,
   "id": "0a0cd422",
   "metadata": {},
   "outputs": [
    {
     "name": "stdout",
     "output_type": "stream",
     "text": [
      "Top 10 devices by transaction count:\n",
      "1     113812\n",
      "2       7796\n",
      "11       979\n",
      "12       948\n",
      "10       790\n",
      "14       742\n",
      "13       702\n",
      "9        585\n",
      "16       528\n",
      "15       525\n",
      "Name: device_transaction_count, dtype: int64\n"
     ]
    }
   ],
   "source": [
    "top_devices = fraud_data['device_transaction_count'].value_counts().head(10)\n",
    "print(\"Top 10 devices by transaction count:\")\n",
    "print(top_devices)\n"
   ]
  },
  {
   "cell_type": "markdown",
   "id": "3468bab0",
   "metadata": {},
   "source": [
    "BEHAVIORAL FEATURES"
   ]
  },
  {
   "cell_type": "code",
   "execution_count": 37,
   "id": "ec45a723",
   "metadata": {},
   "outputs": [
    {
     "name": "stdout",
     "output_type": "stream",
     "text": [
      "Creating age groups...\n",
      "Creating purchase value categories...\n",
      "Creating weekend indicator...\n",
      "Creating night purchase indicator...\n",
      "Behavioral features completed!\n"
     ]
    }
   ],
   "source": [
    "# Create age groups\n",
    "print(\"Creating age groups...\")\n",
    "def categorize_age(age):\n",
    "    if age < 25:\n",
    "        return 'Young'\n",
    "    elif age < 45:\n",
    "        return 'Middle'\n",
    "    else:\n",
    "        return 'Senior'\n",
    "\n",
    "fraud_data['age_group'] = fraud_data['age'].apply(categorize_age)\n",
    "\n",
    "# Create purchase value categories\n",
    "print(\"Creating purchase value categories...\")\n",
    "fraud_data['purchase_value_category'] = pd.cut(\n",
    "    fraud_data['purchase_value'], \n",
    "    bins=[0, 50, 200, 500, float('inf')], \n",
    "    labels=['Low', 'Medium', 'High', 'Very High']\n",
    ")\n",
    "\n",
    "# Check for weekend purchases\n",
    "print(\"Creating weekend indicator...\")\n",
    "fraud_data['is_weekend'] = fraud_data['day_of_week'].apply(lambda x: 1 if x >= 5 else 0)\n",
    "\n",
    "# Check for night purchases (8PM to 6AM)\n",
    "print(\"Creating night purchase indicator...\")\n",
    "fraud_data['is_night_purchase'] = fraud_data['hour_of_day'].apply(\n",
    "    lambda x: 1 if x >= 20 or x <= 6 else 0\n",
    ")\n",
    "\n",
    "print(\"Behavioral features completed!\")"
   ]
  },
  {
   "cell_type": "code",
   "execution_count": 38,
   "id": "4dac1622",
   "metadata": {},
   "outputs": [
    {
     "data": {
      "image/png": "[encoded data removed]",
      "text/plain": [
       "<Figure size 640x480 with 1 Axes>"
      ]
     },
     "metadata": {},
     "output_type": "display_data"
    }
   ],
   "source": [
    "fraud_data['age_group'].value_counts().plot(kind='bar', title='Age Group Distribution')\n",
    "plt.show()\n",
    "\n"
   ]
  },
  {
   "cell_type": "markdown",
   "id": "baaa5fe2",
   "metadata": {},
   "source": [
    " SAVE ENGINEERED FEATURES"
   ]
  },
  {
   "cell_type": "code",
   "execution_count": 40,
   "id": "53c6a13b",
   "metadata": {},
   "outputs": [
    {
     "name": "stdout",
     "output_type": "stream",
     "text": [
      "Final feature summary for fraud data:\n",
      "Total features: 45\n",
      "New or reinforced features created:\n",
      "  - country_binned\n",
      "  - hour_of_day_binned\n",
      "  - is_night_purchase\n",
      "  - is_peak_hour\n",
      "  - is_business_day\n",
      "  - day_part\n",
      "  - purchase_value_category\n",
      "  - device_transaction_count_normalized\n",
      "  - is_device_1\n",
      "  - device_activity_group\n",
      "Removed features:\n",
      "  - user_transaction_count\n",
      "  - user_avg_purchase_value\n",
      "  - purchase_value_deviation\n",
      "\n",
      "Feature engineering completed!\n",
      "Files saved:\n",
      "  - fraud_data_with_features.csv\n",
      "  - creditcard_data_with_features.csv\n",
      "\n",
      "Sample of engineered fraud data:\n",
      "        user_id country_binned  hour_of_day_binned_Morning  \\\n",
      "31545         2  United States                           1   \n",
      "97542         4          Other                           0   \n",
      "12873         8  United States                           1   \n",
      "104500       12          Other                           0   \n",
      "21011        16  United States                           1   \n",
      "\n",
      "        hour_of_day_binned_Morning  time_since_signup  is_night_purchase  \\\n",
      "31545                            1         990.273333                  0   \n",
      "97542                            0        2788.855278                  1   \n",
      "12873                            1        1852.000278                  0   \n",
      "104500                           0        1286.523611                  1   \n",
      "21011                            1         886.966667                  0   \n",
      "\n",
      "        is_peak_hour  is_business_day  day_part_Evening  day_part_Evening  \\\n",
      "31545              1                0                 0                 0   \n",
      "97542              0                0                 1                 1   \n",
      "12873              1                1                 0                 0   \n",
      "104500             0                1                 1                 1   \n",
      "21011              1                1                 0                 0   \n",
      "\n",
      "        class  is_device_1  \n",
      "31545       0            0  \n",
      "97542       0            0  \n",
      "12873       0            0  \n",
      "104500      0            0  \n",
      "21011       0            0  \n"
     ]
    }
   ],
   "source": [
    "# Remove low-importance features only if they exist\n",
    "columns_to_drop = ['user_transaction_count', 'user_avg_purchase_value', 'purchase_value_deviation']\n",
    "fraud_data.drop(columns=[col for col in columns_to_drop if col in fraud_data.columns], inplace=True)\n",
    "\n",
    "\n",
    "# Display final feature summary\n",
    "print(\"Final feature summary for fraud data:\")\n",
    "print(f\"Total features: {len(fraud_data.columns)}\")\n",
    "print(\"New or reinforced features created:\")\n",
    "new_features = [\n",
    "    'country_binned', 'hour_of_day_binned', 'is_night_purchase', 'is_peak_hour',\n",
    "    'is_business_day', 'day_part', 'purchase_value_category', 'device_transaction_count_normalized',\n",
    "    'is_device_1', 'device_activity_group'\n",
    "]\n",
    "for feature in new_features:\n",
    "    print(f\"  - {feature}\")\n",
    "print(\"Removed features:\")\n",
    "removed_features = ['user_transaction_count', 'user_avg_purchase_value', 'purchase_value_deviation']\n",
    "for feature in removed_features:\n",
    "    print(f\"  - {feature}\")\n",
    "\n",
    "# Save the feature-engineered datasets\n",
    "fraud_data.to_csv('fraud_data_with_features.csv', index=False)\n",
    "creditcard_df.to_csv('creditcard_data_with_features.csv', index=False)\n",
    "\n",
    "print(\"\\nFeature engineering completed!\")\n",
    "print(\"Files saved:\")\n",
    "print(\"  - fraud_data_with_features.csv\")\n",
    "print(\"  - creditcard_data_with_features.csv\")\n",
    "\n",
    "# Display sample of engineered data\n",
    "print(\"\\nSample of engineered fraud data:\")\n",
    "print(fraud_data[['user_id', 'country_binned', 'hour_of_day_binned_Morning', 'time_since_signup', \n",
    "                  'is_night_purchase', 'is_peak_hour', 'is_business_day', 'day_part_Evening', 'class', 'is_device_1']].head())"
   ]
  },
  {
   "cell_type": "markdown",
   "id": "b3067687",
   "metadata": {},
   "source": []
  },
  {
   "cell_type": "markdown",
   "id": "e0468309",
   "metadata": {},
   "source": [
    "## 🔁 Feature Re-Engineering Summary\n",
    "\n",
    "After conducting SHAP analysis and detecting a high number of **false negatives**, I revisited the feature engineering process to improve fraud detection performance and interpretability. The goal was to **enhance model signals** related to **time, behavior, and device usage**.\n",
    "\n",
    "### 🎯 Why Re-engineer?\n",
    "- SHAP analysis revealed **low-importance features** and **missing patterns** related to time and device activity.\n",
    "- Specifically, features like `hour_of_day`, `is_night_purchase`, and `device_transaction_count` needed reinforcement.\n",
    "- Some earlier features like `user_transaction_count` were **meaningless**, as every user made only one transaction.\n",
    "\n",
    "---\n",
    "\n",
    "### 🔍 Key Findings\n",
    "\n",
    "- **Users:** Each user appears only once — rendering user-level stats like `user_avg_purchase_value` and `purchase_value_deviation` useless.\n",
    "- **Devices:** Some devices were reused up to **20 times**. **Device 1** alone handled **~87%** of all transactions — a strong fraud signal.\n",
    "- **Countries:** IPs are mapped correctly; most common: **United States**, **China**, **Japan**.\n",
    "- **Time features** like `hour_of_day`, `is_night_purchase`, and `day_part` were crucial for SHAP-based explainability.\n",
    "\n",
    "---\n",
    "\n",
    "### ✅ Actions Taken\n",
    "\n",
    "- **Dropped user-level features** (`user_transaction_count`, `purchase_value_deviation`, etc.)\n",
    "- **Enhanced device-level features**, including:\n",
    "  - `device_transaction_count_normalized`\n",
    "  - `is_device_1` flag\n",
    "  - `device_activity_group`\n",
    "- **Reinforced time-based features**:\n",
    "  - `is_peak_hour`, `is_night_purchase`, `is_business_day`, `day_part`\n",
    "- **Added** purchase behavior flags like `purchase_value_category`\n",
    "\n",
    "---\n",
    "\n",
    "### 📦 Final Feature Engineering Summary\n",
    "\n",
    "- **Total Features:** 45\n",
    "- **New or Reinforced:** 10+\n",
    "- **Files Saved:**\n",
    "  - `fraud_data_with_features.csv`\n",
    "  - `creditcard_data_with_features.csv`\n",
    "\n",
    "> These improved features provide stronger signals for the model, reduce false negatives, and increase interpretability with SHAP.\n",
    "\n"
   ]
  }
 ],
 "metadata": {
  "kernelspec": {
   "display_name": "myenv",
   "language": "python",
   "name": "python3"
  },
  "language_info": {
   "codemirror_mode": {
    "name": "ipython",
    "version": 3
   },
   "file_extension": ".py",
   "mimetype": "text/x-python",
   "name": "python",
   "nbconvert_exporter": "python",
   "pygments_lexer": "ipython3",
   "version": "3.10.0"
  }
 },
 "nbformat": 4,
 "nbformat_minor": 5
}
